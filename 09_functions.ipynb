{
 "cells": [
  {
   "cell_type": "markdown",
   "metadata": {},
   "source": [
    "# Functions\n",
    "\n",
    "Intro to functions TBD"
   ]
  },
  {
   "cell_type": "markdown",
   "metadata": {},
   "source": [
    "# Sample Problem1\n",
    "\n",
    "8. Find the floor and ceiling of values.\n",
    "a) ⌊1.2⌋ = 1 \n",
    "b) ⌈1.5⌉ = 2\n",
    "c) ⌊−0.8⌋ = -1\n",
    "d) ⌈−0.6⌉ = 0\n",
    "e) ⌈2.89⌉ = 3\n",
    "f) ⌈−3.99⌉ = -3"
   ]
  },
  {
   "cell_type": "markdown",
   "metadata": {},
   "source": [
    "# Sample Problem 2"
   ]
  },
  {
   "cell_type": "markdown",
   "metadata": {},
   "source": [
    "# Sample Problem 3"
   ]
  },
  {
   "cell_type": "markdown",
   "metadata": {},
   "source": [
    "# Sample Problem 4"
   ]
  },
  {
   "cell_type": "code",
   "execution_count": 2,
   "metadata": {},
   "outputs": [
    {
     "name": "stdout",
     "output_type": "stream",
     "text": [
      "math.floor(-23.11) :  -24\n",
      "math.floor(300.16) :  300\n",
      "math.floor(300.72) :  300\n"
     ]
    }
   ],
   "source": [
    "# This will import math module\n",
    "import math\n",
    " \n",
    "# prints the floor using floor() method\n",
    "print(\"math.floor(-23.11) : \", math.floor(-23.11))\n",
    "print(\"math.floor(300.16) : \", math.floor(300.16))\n",
    "print(\"math.floor(300.72) : \", math.floor(300.72))"
   ]
  },
  {
   "cell_type": "code",
   "execution_count": 3,
   "metadata": {},
   "outputs": [
    {
     "name": "stdout",
     "output_type": "stream",
     "text": [
      "math.ceil(-23.11) :  -23\n",
      "math.ceil(300.16) :  301\n",
      "math.ceil(300.72) :  301\n"
     ]
    }
   ],
   "source": [
    "# Python program to demonstrate the use of ceil() method\n",
    " \n",
    "# This will import math module\n",
    "import math   \n",
    " \n",
    "# prints the ceil using ceil() method\n",
    "print (\"math.ceil(-23.11) : \", math.ceil(-23.11))\n",
    "print (\"math.ceil(300.16) : \", math.ceil(300.16))\n",
    "print (\"math.ceil(300.72) : \", math.ceil(300.72))"
   ]
  }
 ],
 "metadata": {
  "kernelspec": {
   "display_name": "Python 3",
   "language": "python",
   "name": "python3"
  },
  "language_info": {
   "codemirror_mode": {
    "name": "ipython",
    "version": 3
   },
   "file_extension": ".py",
   "mimetype": "text/x-python",
   "name": "python",
   "nbconvert_exporter": "python",
   "pygments_lexer": "ipython3",
   "version": "3.11.7"
  }
 },
 "nbformat": 4,
 "nbformat_minor": 2
}
