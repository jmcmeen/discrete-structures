{
 "cells": [
  {
   "cell_type": "markdown",
   "metadata": {},
   "source": [
    "# Functions\n",
    "Functions can be used to represent how long it takes a computer to solve a problem. Most computer programs are designed to calculate values of functions."
   ]
  },
  {
   "cell_type": "markdown",
   "metadata": {},
   "source": [
    "# Question One\n",
    "\n",
    "Find the domain and range of these functions. Note that\n",
    "in each case, to find the domain, determine the set of elements assigned values by the function.\n",
    "\n",
    "\n",
    "a) the function that assigns to each nonnegative integer\n",
    "its last digit\n",
    "\n",
    "b) the function that assigns the next largest integer to a\n",
    "positive integer\n",
    "\n",
    "c) the function that assigns to a bit string the number of\n",
    "one bits in the string\n",
    "\n",
    "d) the function that assigns to a bit string the number of\n",
    "bits in the string\n",
    "\n",
    "Answers:\n",
    "\n",
    "a)\n",
    "$\\newline$ Domain:\n",
    "The domain of this function is all nonnegative integers. Each nonnegative integer can be represented as the digits 0 through 9 in its units place.\n",
    "\n",
    "Range:\n",
    "The range of this function is the set {0, 1, 2, 3, 4, 5, 6, 7, 8, 9}. It includes all possible last digits.\n",
    "\n",
    "b)\n",
    "$\\newline$ Domain:\n",
    "The domain of this function is all positive integers.\n",
    "\n",
    "Range:\n",
    "The range of this function is all positive integers except for 1. For any positive integer x, the next largest integer is x + 1.\n",
    "\n",
    "c)\n",
    "$\\newline$ Domain:\n",
    "The domain of this function is the set of all possible bit strings.\n",
    "\n",
    "Range:\n",
    "The range of this function is the set of nonnegative integers, including zero. The number of one bits in a string can be any nonnegative integer.\n",
    "\n",
    "\n",
    "d)\n",
    "$\\newline$ Domain:\n",
    "The domain of this function is the set of all possible bit strings.\n",
    "\n",
    "Range:\n",
    "The range of this function is the set of positive integers including zero. The number of bits in a string can't be negative, and it includes zero if the string is empty."
   ]
  },
  {
   "cell_type": "markdown",
   "metadata": {},
   "source": [
    "# Question Two\n",
    "\n",
    "Determine whether each of these functions is a bijection\n",
    "from R to R.\n",
    "\n",
    "\n",
    "a) f(x) = 3x + 2\n",
    "\n",
    "b) f(x) = x3 + 2\n",
    "\n",
    "c) f(x) = x2\n",
    "\n",
    "d) f(x) = (x3 + 2)∕(x3 + 1)\n",
    "\n",
    "Answers:\n",
    "\n",
    "a) Yes, f(x) is a bijection.\n",
    "\n",
    "b) No, f(x) isn't a bijection, it's not one-to-one, and it fails the horizontal line test.\n",
    "\n",
    "c) No, f(x) isn't a bijection because it also fails the horizontal line test.\n",
    "\n",
    "d) Yes, f(x) is a bijection, except the point where the denominator is zero.\n"
   ]
  },
  {
   "cell_type": "markdown",
   "metadata": {},
   "source": [
    "# Question Three\n",
    "\n",
    "Let f(x) = ⌊x2∕3⌋. Find f(x) if\n",
    "\n",
    "\n",
    "a) x = {−3, −2, −1, 0, 1, 2, 3}.\n",
    "\n",
    "b) x = {1, 4, 9, 16, 25}.\n",
    "\n",
    "c) x = {1, 8, 27, 64}.\n",
    "\n",
    "d) x = {1, 32, 243, 1024}.\n",
    "\n",
    "Answers:\n",
    "\n",
    "a) f(x) = {3, 2, 0, 0, 0, 1, 3}.\n",
    "\n",
    "b) f(x) = {0, 1, 3, 5, 8}.\n",
    "\n",
    "c) f(x) = {0, 2, 6, 10}.\n",
    "\n",
    "d) f(x) = {0, 35, 185, 341}.\n"
   ]
  },
  {
   "cell_type": "markdown",
   "metadata": {},
   "source": [
    "# Question Four\n",
    "\n",
    "How many bytes are required to encode n bits of data\n",
    "where n equals\n",
    "\n",
    "\n",
    "a) 9? \n",
    "\n",
    "b) 20? \n",
    "\n",
    "c) 700? \n",
    "\n",
    "d) 9000?\n",
    "\n",
    "Answers:\n",
    "\n",
    "a) 2 bytes\n",
    "\n",
    "b) 3 bytes\n",
    "\n",
    "c) 88 bytes\n",
    "\n",
    "d) 1,125 bytes"
   ]
  },
  {
   "cell_type": "markdown",
   "metadata": {},
   "source": [
    "# Question Five\n",
    "\n",
    "Data are transmitted over a particular Ethernet network\n",
    "in blocks of 1500 octets (blocks of 8 bits). How many\n",
    "blocks are required to transmit the following amounts of\n",
    "data over this Ethernet network? (Note that a byte is a\n",
    "synonym for an octet, a kilobyte is 1000 bytes, and a\n",
    "megabyte is 1,000,000 bytes.)\n",
    "\n",
    "\n",
    "a) 250 kilobytes of data\n",
    "\n",
    "b) 473 kilobytes of data\n",
    "\n",
    "c) 1.922 megabytes of data\n",
    "\n",
    "d) 65.4 megabytes of data\n",
    "\n",
    "Answers:\n",
    "\n",
    "a) 167 blocks\n",
    "\n",
    "b) 316 blocks\n",
    "\n",
    "c) 1,282 blocks\n",
    "\n",
    "d) 43,600 blocks\n",
    "\n"
   ]
  },
  {
   "cell_type": "markdown",
   "metadata": {},
   "source": [
    "# Python Problem One"
   ]
  },
  {
   "cell_type": "code",
   "execution_count": 4,
   "metadata": {},
   "outputs": [
    {
     "name": "stdout",
     "output_type": "stream",
     "text": [
      "[0, 1, 1, 2, 3, 5, 8, 13, 21, 34, 55, 89, 144, 233, 377]\n"
     ]
    }
   ],
   "source": [
    "def fibonacci(n):\n",
    "    fib_sequence = [0, 1]\n",
    "    while len(fib_sequence) < n:\n",
    "        fib_sequence.append(fib_sequence[-1] + fib_sequence[-2])\n",
    "    return fib_sequence[:n]\n",
    "print (fibonacci(15))"
   ]
  },
  {
   "cell_type": "markdown",
   "metadata": {},
   "source": [
    "# Python Problem Two"
   ]
  },
  {
   "cell_type": "code",
   "execution_count": 9,
   "metadata": {},
   "outputs": [
    {
     "name": "stdout",
     "output_type": "stream",
     "text": [
      "2 is prime: True\n",
      "4 is prime: False\n",
      "5 is prime: True\n",
      "8 is prime: False\n",
      "11 is prime: True\n",
      "13 is prime: True\n",
      "16 is prime: False\n",
      "76 is prime: False\n",
      "79 is prime: True\n",
      "500 is prime: False\n"
     ]
    }
   ],
   "source": [
    "def is_prime(num):\n",
    "    if num <= 1:\n",
    "        return False\n",
    "    elif num <= 3:\n",
    "        return True\n",
    "    elif num % 2 == 0 or num % 3 == 0:\n",
    "        return False\n",
    "    i = 5\n",
    "    while i * i <= num:\n",
    "        if num % i == 0 or num % (i + 2) == 0:\n",
    "            return False\n",
    "        i += 6\n",
    "    return True\n",
    "\n",
    "# Numbers to check\n",
    "numbers = [2, 4, 5, 8, 11, 13, 16, 76, 79, 500]\n",
    "\n",
    "# Check if each number is prime\n",
    "for num in numbers:\n",
    "    print(f\"{num} is prime: {is_prime(num)}\")\n"
   ]
  },
  {
   "cell_type": "markdown",
   "metadata": {},
   "source": [
    "# Python Problem Three\n",
    "# This will import math module\n",
    "import math\n",
    " \n",
    "# prints the floor using floor() method\n",
    "print(\"math.floor(-23.11) : \", math.floor(-23.11))\n",
    "print(\"math.floor(300.16) : \", math.floor(300.16))\n",
    "print(\"math.floor(300.72) : \", math.floor(300.72))"
   ]
  },
  {
   "cell_type": "code",
   "execution_count": 30,
   "metadata": {},
   "outputs": [
    {
     "name": "stdout",
     "output_type": "stream",
     "text": [
      "The greatest common divisor of 18 and 36 is: 18\n",
      "The greatest common divisor of 48, 18, 36 and 72 is: 6\n",
      "The greatest common divisor of 48 and 72 is: 24\n",
      "math.ceil(-23.11) :  -23\n",
      "math.ceil(300.16) :  301\n",
      "math.ceil(300.72) :  301\n"
     ]
    }
   ],
   "source": [
    "def multipleCommonDivisor(*numbers):\n",
    "    result = numbers[0]\n",
    "    for num in numbers[1:]:\n",
    "        result = commonDivisor(result, num)\n",
    "    return result\n",
    "\n",
    "def commonDivisor(a, b):\n",
    "    while b != 0:\n",
    "        a, b = b, a % b\n",
    "    return a\n",
    "\n",
    "# Example usage:\n",
    "num1 = 48\n",
    "num2 = 18\n",
    "num3 = 36\n",
    "num4 = 72\n",
    "num5 = 90\n",
    "\n",
    "print(f\"The greatest common divisor of {num2} and {num3} is: {multipleCommonDivisor(num2, num3)}\")\n",
    "print(f\"The greatest common divisor of {num1}, {num2}, {num3} and {num4} is: {multipleCommonDivisor(num1, num2, num3, num4)}\")\n",
    "print(f\"The greatest common divisor of {num1} and {num4} is: {multipleCommonDivisor(num1, num4)}\")\n"
   ]
  },
  {
   "cell_type": "markdown",
   "metadata": {},
   "source": [
    "(ChatGPT may have been used)\n",
    "# Python program to demonstrate the use of ceil() method\n",
    " \n",
    "# This will import math module\n",
    "import math   \n",
    " \n",
    "# prints the ceil using ceil() method\n",
    "print (\"math.ceil(-23.11) : \", math.ceil(-23.11))\n",
    "print (\"math.ceil(300.16) : \", math.ceil(300.16))\n",
    "print (\"math.ceil(300.72) : \", math.ceil(300.72))"
   ]
  }
 ],
 "metadata": {
  "kernelspec": {
   "display_name": "Python 3",
   "language": "python",
   "name": "python3"
  },
  "language_info": {
   "codemirror_mode": {
    "name": "ipython",
    "version": 3
   },
   "file_extension": ".py",
   "mimetype": "text/x-python",
   "name": "python",
   "nbconvert_exporter": "python",
   "pygments_lexer": "ipython3",
   "version": "3.11.7"
  }
 },
 "nbformat": 4,
 "nbformat_minor": 2
}
