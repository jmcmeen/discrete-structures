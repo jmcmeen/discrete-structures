{
 "cells": [
  {
   "cell_type": "markdown",
   "metadata": {},
   "source": [
    "# Learning Discrete Mathematical Structures Using Python\n",
    "\n",
    "# Topics\n",
    "* Sets and Subsets/Operations on Sets\n",
    "* Sequences\n",
    "* Regular Expressions\n",
    "* Properties of Integers\n",
    "* Matrices\n",
    "* Propositions and Logical Operations\n",
    "* Conditional Statements\n",
    "* Methods of Proof/Mathematical Induction\n",
    "* Relations/Properties of Relations\n",
    "* Equivalence Relations/Functions\n",
    "* Algorithms/Complexity of Functions\n",
    "* Trees/Labeled Trees-Huffman Code\n",
    "* Tree Searching/Minimal Spanning Trees\n",
    "* Graphs/Finite State Machines\n",
    "* Regular Languages\n",
    "\n",
    "# Conventions\n",
    "This Jupyter Notebook uses [KaTeX](https://katex.org/) markdown. "
   ]
  }
 ],
 "metadata": {
  "language_info": {
   "name": "python"
  }
 },
 "nbformat": 4,
 "nbformat_minor": 2
}
