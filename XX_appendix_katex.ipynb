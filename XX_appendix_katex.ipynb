{
 "cells": [
  {
   "cell_type": "markdown",
   "metadata": {},
   "source": [
    "**Gamma Function**:\n",
    "     $$\\Gamma(z) = \\int_0^\\infty t^{z-1}e^{-t}dt$$\n",
    "\n",
    "**Quadratic Formula**:\n",
    "     $$x = \\frac{-b \\pm \\sqrt{b^2 - 4ac}}{2a}$$\n",
    "\n",
    "**Quadratic Roots**:\n",
    "     $$x_{1,2} = \\frac{-b \\pm \\sqrt{b^2 - 4ac}}{2a}$$\n",
    "\n",
    "**Vector Notation**:\n",
    "     $$\\vec{F} = F\\hat{F}$$\n",
    "\n",
    "**Overline and Underline**:\n",
    "     $$\\overline{AB}$$\n",
    "\n",
    "**Hat Accent**:\n",
    "     $$\\hat{\\theta}$$\n",
    "\n",
    "**Underbrace and Overbrace**:\n",
    "     $$\\underbrace{AB}$$\n",
    "\n",
    "**Matrix Delimiters**:\n",
    "     $$\\langle AB \\rangle$$\n",
    "\n",
    "**Floor and Ceiling Functions**:\n",
    "     $$\\lfloor x \\rfloor, \\lceil x \\rceil$$\n",
    "\n",
    "**Arrow Notations**:\n",
    "      $$\\overrightarrow{AB}, \\overleftarrow{AB}$$"
   ]
  },
  {
   "cell_type": "code",
   "execution_count": null,
   "metadata": {},
   "outputs": [],
   "source": []
  }
 ],
 "metadata": {
  "language_info": {
   "name": "python"
  }
 },
 "nbformat": 4,
 "nbformat_minor": 2
}
