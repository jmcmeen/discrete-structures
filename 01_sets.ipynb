{
 "cells": [
  {
   "cell_type": "markdown",
   "metadata": {},
   "source": [
    "# Set Theory\n",
    "\n",
    "A **set** is an unordered collection of objects, called **elements** or **members**. A set **contains** elements. When $a$ is a member of the set $Z$, we write $a \\in Z$. If $a$ is not a member of the set $Z$, we write $a \\not\\in Z$.\n",
    "\n",
    "For example, if $F$ is the set of all known species of frogs, then the upland chorus frog (Pseudacris feriarum) is an element of $F$ and the Tennessee cave salamander (Gyrinophilus palleucus) is not an element of $F$. If $O$ is the set of all odd integers then $42 \\not\\in O$ and $947098471 \\in O$.\n",
    "\n",
    "\n",
    "There are multiple ways to describe a set. One way of describing a set is the **roster method** . All elements of the set are listed out in curly braces. For example, $\\{1,2,3\\}$  with elements $1$,$2$,$3$, or $\\{TN, NC, SC\\}$ with members $TN$,$NC$,$SC$.\n",
    "\n",
    "One can build sets in Python using curly braces. Set data types are unordered and ignore duplicate elements."
   ]
  },
  {
   "cell_type": "code",
   "execution_count": 8,
   "metadata": {},
   "outputs": [
    {
     "name": "stdout",
     "output_type": "stream",
     "text": [
      "0\n",
      "32\n",
      "2\n",
      "16\n",
      "4\n",
      "8\n"
     ]
    }
   ],
   "source": [
    "# create a set\n",
    "A = {0,2,4,8,16,32}\n",
    "\n",
    "# print each element in set\n",
    "for a in A:\n",
    "    print(a)"
   ]
  },
  {
   "cell_type": "markdown",
   "metadata": {},
   "source": [
    "Determining Set Membership in Python\n",
    "\n",
    "The code below checks to see if $32$ and $64$ are elements of the set $A = \\{0,2,4,8,16,32\\}$. Since $32 \\in A$ and $64 \\not\\in A$ the code prints True then False.\n"
   ]
  },
  {
   "cell_type": "code",
   "execution_count": 10,
   "metadata": {},
   "outputs": [
    {
     "name": "stdout",
     "output_type": "stream",
     "text": [
      "32 in A: True\n",
      "64 in A: False\n"
     ]
    }
   ],
   "source": [
    "# create a set\n",
    "A = {0,2,4,8,16,32}\n",
    "\n",
    "# check if element is in set\n",
    "print(f'32 in A: {32 in A}')\n",
    "print(f'64 in A: {64 in A}')"
   ]
  },
  {
   "cell_type": "markdown",
   "metadata": {},
   "source": [
    "Another way to represent sets is **set builder** notation. Here the set is written in the general form: $$\\{ x \\in \\ D : P(x)\\}$$\n",
    "\n",
    "Given the following set: $$\\{x \\in \\mathbb{Z} : -2 < x \\leq 3\\}$$\n",
    "\n",
    "This is the set of all integers called $x$ such that $-2$ is less than $x$ and $x$ is less than or equal to $3$. In the roster method, this set would be written as : $$\\{-1,0,1,2,3\\}$$\n",
    "\n",
    "A Python feature, comprehensions, allows you to use a similar notation to the set builder notation. The set $\\{ x \\in \\ D : P(x)\\}$ can be expressed in Python as {for x in D if P(x)}. This can be used in Python lists as well.\n"
   ]
  },
  {
   "cell_type": "code",
   "execution_count": 11,
   "metadata": {},
   "outputs": [
    {
     "name": "stdout",
     "output_type": "stream",
     "text": [
      "{1, 4}\n"
     ]
    }
   ],
   "source": [
    "A = {-2, 0, 1, 4}\n",
    "\n",
    "B = {x for x in A if x > 0}\n",
    "print(B)"
   ]
  },
  {
   "cell_type": "code",
   "execution_count": 12,
   "metadata": {},
   "outputs": [
    {
     "name": "stdout",
     "output_type": "stream",
     "text": [
      "[1, 4]\n"
     ]
    }
   ],
   "source": [
    "A = [-2, 0, 1, 4]\n",
    "B = [x for x in A if x > 0]\n",
    "print(B)"
   ]
  }
 ],
 "metadata": {
  "kernelspec": {
   "display_name": "Python 3",
   "language": "python",
   "name": "python3"
  },
  "language_info": {
   "codemirror_mode": {
    "name": "ipython",
    "version": 3
   },
   "file_extension": ".py",
   "mimetype": "text/x-python",
   "name": "python",
   "nbconvert_exporter": "python",
   "pygments_lexer": "ipython3",
   "version": "3.11.7"
  }
 },
 "nbformat": 4,
 "nbformat_minor": 2
}
