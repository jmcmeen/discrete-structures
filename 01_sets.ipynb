{
 "cells": [
  {
   "cell_type": "markdown",
   "metadata": {},
   "source": [
    "# Set Theory\n",
    "\n",
    "## Sets\n",
    "\n",
    "A **set** is an unordered collection of objects, called **elements** or **members**. A set **contains** elements. When $a$ is a member of the set $Z$, we write $a \\in Z$. If $a$ is not a member of the set $Z$, we write $a \\not\\in Z$.\n",
    "\n",
    "For example, if $F$ is the set of all known species of frogs, then the upland chorus frog (Pseudacris feriarum) is an element of $F$ and the Tennessee cave salamander (Gyrinophilus palleucus) is not an element of $F$. If $O$ is the set of all odd integers then $42 \\not\\in O$ and $947098471 \\in O$.\n",
    "\n",
    "There are multiple ways to describe a set. One way of describing a set is the **roster method** . All elements of the set are listed out in curly braces. For example, $\\{1,2,3\\}$  with elements $1$,$2$,$3$, or $\\{TN, NC, SC\\}$ with members $TN$,$NC$,$SC$.\n",
    "\n",
    "One can build sets in Python using curly braces. Set data types are unordered and ignore duplicate elements."
   ]
  },
  {
   "cell_type": "code",
   "execution_count": 12,
   "metadata": {},
   "outputs": [
    {
     "name": "stdout",
     "output_type": "stream",
     "text": [
      "0\n",
      "32\n",
      "2\n",
      "16\n",
      "4\n",
      "8\n"
     ]
    }
   ],
   "source": [
    "# create a set\n",
    "A = {0,2,4,8,16,32}\n",
    "\n",
    "# print each element in set\n",
    "for a in A:\n",
    "    print(a)"
   ]
  },
  {
   "cell_type": "markdown",
   "metadata": {},
   "source": [
    "Determining Set Membership in Python\n",
    "\n",
    "The code below checks to see if $32$ and $64$ are elements of the set $A = \\{0,2,4,8,16,32\\}$. Since $32 \\in A$ and $64 \\not\\in A$ the code prints True then False.\n"
   ]
  },
  {
   "cell_type": "code",
   "execution_count": 13,
   "metadata": {},
   "outputs": [
    {
     "name": "stdout",
     "output_type": "stream",
     "text": [
      "32 in A: True\n",
      "64 in A: False\n"
     ]
    }
   ],
   "source": [
    "# create a set\n",
    "A = {0,2,4,8,16,32}\n",
    "\n",
    "# check if element is in set\n",
    "print(f'32 in A: {32 in A}')\n",
    "print(f'64 in A: {64 in A}')"
   ]
  },
  {
   "cell_type": "markdown",
   "metadata": {},
   "source": [
    "Another way to represent sets is **set builder** notation. Here the set is written in the general form: $$\\{ x \\in \\ D : P(x)\\}$$\n",
    "\n",
    "Given the following set: $$\\{x \\in \\mathbb{Z} : -2 < x \\leq 3\\}$$\n",
    "\n",
    "This is the set of all integers called $x$ such that $-2$ is less than $x$ and $x$ is less than or equal to $3$. In the roster method, this set would be written as : $$\\{-1,0,1,2,3\\}$$\n",
    "\n",
    "A Python feature, comprehensions, allows you to use a similar notation to the set builder notation. The set $\\{ x \\in \\ D : P(x)\\}$ can be expressed in Python as {for x in D if P(x)}. This can be used in Python lists as well.\n"
   ]
  },
  {
   "cell_type": "code",
   "execution_count": 14,
   "metadata": {},
   "outputs": [
    {
     "name": "stdout",
     "output_type": "stream",
     "text": [
      "{1, 4}\n"
     ]
    }
   ],
   "source": [
    "A = {-2, 0, 1, 4}\n",
    "\n",
    "B = {x for x in A if x > 0}\n",
    "print(B)"
   ]
  },
  {
   "cell_type": "code",
   "execution_count": 15,
   "metadata": {},
   "outputs": [
    {
     "name": "stdout",
     "output_type": "stream",
     "text": [
      "[1, 4]\n"
     ]
    }
   ],
   "source": [
    "A = [-2, 0, 1, 4]\n",
    "B = [x for x in A if x > 0]\n",
    "print(B)"
   ]
  },
  {
   "cell_type": "markdown",
   "metadata": {},
   "source": [
    "### Special Sets\n",
    "Some special sets have their own notation\n",
    "\n",
    "* $\\mathbb{Z}$, $\\{-2,-1, 0, 1, 2,...\\}$, the set of integers\n",
    "* $\\mathbb{Z}^+$ or $\\mathbb{N}$, $\\{1, 2, 3,...\\}$, the set of natural numbers or positive integers\n",
    "* $\\mathbb{Q}$ , $\\left\\{\\left.\\frac{a}{b}\\right|a\\in \\mathbb{Z},b\\in \\mathbb{Z},b\\neq 0\\right\\}$, the set of rational numbers of the form $\\frac{2}{3}$\n",
    "* $\\mathbb{R}$, the set of real numbers\n",
    "* $\\mathbb{R}^+$, the set of positive real numbers\n",
    "* $\\mathbb{C}$, $\\{a+ib|a\\in \\mathbb{R},b\\in \\mathbb{R},b\\neq 0\\}$, the set of complex numbers of the form 2+3i."
   ]
  },
  {
   "cell_type": "markdown",
   "metadata": {},
   "source": [
    "### Cardinality\n",
    "\n",
    "Consider a set $S$ that contains a finite number of elements. The number of distinct elements, or the count of members in $S$ is referred to as the **cardinality** of $S$ and denote this by $|S|$. If another set $K$ contains an infinite number of distinct elements, we denote infinite cardinality $|F| = \\infty$.\n",
    "\n",
    "Thus, we see that $|\\{0,1,2\\}| = 3$ and $|\\mathbb{Z}| = \\infty$. \n",
    "\n",
    "### Empty Sets\n",
    "\n",
    "Consider the the following set:$$\\{x \\in \\mathbb{Z} : x^3 = 3\\}.$$\n",
    "\n",
    "This is the set of all integers whose cube is equal to 3. However, no such integers exist. Therefore, using the roster method to describe it, this is the set $\\{ \\}$, which we call the **empty set** and denote this set with $\\emptyset$. The empty set has no members, the cardinlaity is denoted $|\\emptyset| = 0$."
   ]
  },
  {
   "cell_type": "code",
   "execution_count": 16,
   "metadata": {},
   "outputs": [
    {
     "name": "stdout",
     "output_type": "stream",
     "text": [
      "3\n",
      "0\n",
      "1\n"
     ]
    }
   ],
   "source": [
    "R = {4,2,3}\n",
    "S = set()\n",
    "T = {0}\n",
    "print(len(R))\n",
    "print(len(S))\n",
    "print(len(T))\n"
   ]
  },
  {
   "cell_type": "markdown",
   "metadata": {},
   "source": [
    "### Equality\n",
    "Two sets are **equal** if and only if they contain the same distinct elements, denoted as: $$\\forall x (x \\in A \\iff x \\in B)$$\n",
    "\n",
    "When $A$ and $B$ are equal sets, we write $A = B$. When $A$ and $B$ are not equal sets, we write $A \\neq B$\n",
    "\n",
    "The sets $\\{4,2,3\\}$ and $\\{2,3,4\\}$ are equal sets, since they contain the same elements. The order in which the elements of a set are listed does not matter. Additionally, it does not matter whether elements are repeated. Therefore, the sets $\\{x,y,z\\}$ and $\\{z,z,y,y,y,x,x\\}$ are equal as well.\n"
   ]
  },
  {
   "cell_type": "code",
   "execution_count": 17,
   "metadata": {},
   "outputs": [
    {
     "name": "stdout",
     "output_type": "stream",
     "text": [
      "A and B are not equal\n",
      "A and C are equal\n"
     ]
    }
   ],
   "source": [
    "A = {1,2,3}\n",
    "B = {2,3,4}\n",
    "C = {3,2,1}\n",
    "\n",
    "if A == B:\n",
    "    print('A and B are equal')\n",
    "else:\n",
    "    print('A and B are not equal')\n",
    "\n",
    "if A == C:\n",
    "    print('A and C are equal')\n",
    "else:\n",
    "    print('A and C are not equal')"
   ]
  },
  {
   "cell_type": "markdown",
   "metadata": {},
   "source": [
    "### Subsets\n",
    "\n",
    "We say that a set $A$ is a subset of a set $B$ if and only if every element of $A$ is an element of $B$. In other words, $A$ is a subset of $B$ if and only if $\\forall x (x \\in A \\implies x \\in B)$.\n",
    "\n",
    "When $A$ is a subset of $B$, we write $A \\subseteq B$. When $A$ is not a subset of $B$, we write $A \\not\\subseteq B$.\n",
    "\n",
    "In order to show that $A$ is a subset of $B$, we must show that, whenever $x \\in A$, it is also the case that $x \\in B$. In order to show that $A$ is not a subset of $B$, we must find a single x such that $x \\in A$ but $x \\not\\in B$.\n",
    "\n",
    "If we let $S = \\{1,5\\}$ and $T = \\{1,3,5\\}$, then $S \\subseteq T$, since each element of $S$ is an element of $T$, but $T \\not\\subseteq S$, since $3$ is an element of $T$ that is not an element of $S$.\n",
    "\n",
    "If we let $A$ be the set of professional musicians and let $F$ be musicians in The Foo Fighters, we have $F \\subseteq A$, since every musician in the Foo Fighters is a professional musician, but $A \\not\\subseteq F$, since not every professional musician is in The Foo Fighters.\n",
    "\n",
    "In Python, we can check for subsets a couple ways."
   ]
  },
  {
   "cell_type": "code",
   "execution_count": 18,
   "metadata": {},
   "outputs": [
    {
     "name": "stdout",
     "output_type": "stream",
     "text": [
      "False\n",
      "False\n",
      "True\n",
      "True\n"
     ]
    }
   ],
   "source": [
    "#create two sets\n",
    "A = {1,3,5,7,9}\n",
    "B = {1,3,5}\n",
    "\n",
    "#is A a subset of B?\n",
    "print(A.issubset(B))\n",
    "print(A <= B)\n",
    "\n",
    "#is B a subset of A?\n",
    "print(B.issubset(A))\n",
    "print(B <= A)\n"
   ]
  },
  {
   "cell_type": "markdown",
   "metadata": {},
   "source": [
    "### Power Sets\n",
    "\n",
    "Given a set $A$, we refer to the power set of $A$ as the set of all subsets of $A$. The power set of $A$ is denoted by $\\mathcal{P}(A)$. $\\mathcal{P}(A)$ is a set whose elements are all sets.\n",
    "\n",
    "If we let $A = \\{1,2,3\\}$, we see that $\\mathcal{P}(A) = \\{\\emptyset, \\{ 1 \\}, \\{ 2 \\}, \\{ 3 \\}, \\{1,2\\}, \\{1,3\\}, \\{2,3\\}, \\{1,2,3\\}\\}$. The empty set only has the empty set as a subset. Thus, we see that $\\mathcal{P}(\\emptyset) = \\{\\emptyset\\}$.\n",
    "\n",
    "**Power Set Cardinality** If $A$ is a finite set such that $|A| = n$, then $\\left|\\mathcal{P}(A)\\right| = 2^n$.\n"
   ]
  },
  {
   "cell_type": "markdown",
   "metadata": {},
   "source": [
    "## Set Operations\n",
    "\n",
    "To create new sets, we perform operations on existing sets. When working with set operations, it's helpful to view all our sets as subsets of a universal set, denoted as $U$. This universal set encompasses all the objects we're considering.\n",
    "\n",
    "Visual representations of set operations can be done using **Venn diagrams**, named after the English mathematician John Venn. A Venn diagram consists of a rectangular region representing the universal set, along with one or more circles representing specific sets. By shading in the relevant regions of the diagram, we illustrate the outcomes of various set operations.\n",
    "\n",
    "TODO whole section needs some venn diagrams"
   ]
  },
  {
   "cell_type": "markdown",
   "metadata": {},
   "source": [
    "### Union\n",
    "\n",
    "TODO"
   ]
  },
  {
   "cell_type": "code",
   "execution_count": 23,
   "metadata": {},
   "outputs": [
    {
     "name": "stdout",
     "output_type": "stream",
     "text": [
      "{0, 2, 4, -1, -2}\n",
      "{0, 2, 4, -1, -2}\n"
     ]
    }
   ],
   "source": [
    "A = {-2, -1, 2, 4}\n",
    "B = {-1, 0, 2}\n",
    "\n",
    "print(A.union(B))\n",
    "print(A | B)"
   ]
  },
  {
   "cell_type": "markdown",
   "metadata": {},
   "source": [
    "### Intersection\n",
    "\n",
    "TODO"
   ]
  },
  {
   "cell_type": "code",
   "execution_count": 25,
   "metadata": {},
   "outputs": [
    {
     "name": "stdout",
     "output_type": "stream",
     "text": [
      "{2, -1}\n",
      "{2, -1}\n"
     ]
    }
   ],
   "source": [
    "A = {-2, -1, 2, 4}\n",
    "B = {-1, 0, 2}\n",
    "\n",
    "print(A.intersection(B))\n",
    "print(A & B)"
   ]
  },
  {
   "cell_type": "markdown",
   "metadata": {},
   "source": [
    "### Difference\n",
    "\n",
    "TODO"
   ]
  },
  {
   "cell_type": "code",
   "execution_count": 26,
   "metadata": {},
   "outputs": [
    {
     "name": "stdout",
     "output_type": "stream",
     "text": [
      "{4, -2}\n",
      "{0}\n",
      "{4, -2}\n",
      "{0}\n"
     ]
    }
   ],
   "source": [
    "A = {-2, -1, 2, 4}\n",
    "B = {-1, 0, 2}\n",
    "\n",
    "print(A.difference(B))\n",
    "print(B.difference(A))\n",
    "\n",
    "print(A - B)\n",
    "print(B - A)\n"
   ]
  },
  {
   "cell_type": "markdown",
   "metadata": {},
   "source": [
    "### Complement\n",
    "\n",
    "TODO"
   ]
  },
  {
   "cell_type": "code",
   "execution_count": 35,
   "metadata": {},
   "outputs": [
    {
     "name": "stdout",
     "output_type": "stream",
     "text": [
      "{4, 5, 6}\n",
      "{4, 5, 6}\n"
     ]
    }
   ],
   "source": [
    "# given a universal set U and a subset V\n",
    "U = {1,2,3,4,5,6}\n",
    "V = {1,2,3}\n",
    "\n",
    "# complement of V in U\n",
    "C = {x for x in U if x not in V}\n",
    "print(C)\n",
    "\n",
    "# also note this is equivalent to U - V\n",
    "C = U - V\n",
    "print(C)"
   ]
  },
  {
   "cell_type": "markdown",
   "metadata": {},
   "source": [
    "## Example Problems\n",
    "\n",
    "TODO add a few sample problems for set membership\n",
    "\n",
    "### Equality\n",
    "Given $A = \\{1,2,3\\}$,  $B = \\{3,2,1\\}$\n",
    "\n",
    "$A = B$ ? True\n",
    "\n",
    "Given $A = \\{1,2,2,3\\}$,  $B = \\{3,2,1\\}$\n",
    "\n",
    "$A = B$ ? True\n",
    "\n",
    "Given $A = \\{1,3\\}$,  $B = \\{3,2,1\\}$\n",
    "\n",
    "$A = B$ ? False\n",
    "\n",
    "Given $A = \\{1,3,3\\}$,  $B = \\{1,2,3\\}$\n",
    "\n",
    "$A = B$ ? False\n",
    "\n",
    "\n",
    "### Subsets\n",
    "\n",
    "Given $A = \\{1,2,3\\}$ and $B = \\{1,3\\}$\n",
    "\n",
    "is $B \\subseteq A$ ? True\n",
    "\n",
    "Given $A = \\{1,2,3\\}$, and $B = \\{1,2\\}$\n",
    "\n",
    "is $B \\subset A$ ? True\n",
    "\n",
    "Given $A = \\{1,2,3\\}$, and $B = \\{1,4\\}$\n",
    "\n",
    "is $B \\subseteq A$ ? False\n",
    "\n",
    "Given $A = \\{1,3,4\\}$, and $B = \\{1,2\\}$\n",
    "\n",
    "is $B \\not\\subseteq A$ ? True\n",
    "\n",
    "Given $A = \\{1,2,4\\}$, and $B = \\{1,2\\}$\n",
    "\n",
    "is $B \\not\\subseteq A$ ? False\n",
    "\n",
    "### Set Operations\n",
    "\n",
    "Given the universal set $U = \\{1,2,3,4,5,6,7,8,9,10\\}$\n",
    "\n",
    "and sets\n",
    "\n",
    "$A = \\{1,2,3\\}$,  $B = \\{3, 4,5,6\\}$, $C = \\{9, 10\\}$,  \n",
    "\n",
    "**TODO** add LaTeX for problems below\n",
    "Determine\n",
    "a union b\n",
    "\n",
    "$A \\cup B$\n",
    "a union c\n",
    "a union b union c\n",
    "not b \n",
    "a intersect b\n",
    "a intersect c\n",
    "a minus b\n",
    "b minus a\n",
    "\n"
   ]
  },
  {
   "cell_type": "markdown",
   "metadata": {},
   "source": [
    "\n",
    "\n",
    " "
   ]
  }
 ],
 "metadata": {
  "kernelspec": {
   "display_name": "Python 3",
   "language": "python",
   "name": "python3"
  },
  "language_info": {
   "codemirror_mode": {
    "name": "ipython",
    "version": 3
   },
   "file_extension": ".py",
   "mimetype": "text/x-python",
   "name": "python",
   "nbconvert_exporter": "python",
   "pygments_lexer": "ipython3",
   "version": "3.11.7"
  }
 },
 "nbformat": 4,
 "nbformat_minor": 2
}
