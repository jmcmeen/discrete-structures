{
 "cells": [
  {
   "cell_type": "code",
   "execution_count": 16,
   "metadata": {},
   "outputs": [],
   "source": [
    "import math"
   ]
  },
  {
   "cell_type": "markdown",
   "metadata": {},
   "source": [
    "X) Bobo the Code Monkey likes to do puzzles when his boss isn't around and has recently discovered modular arithmetic. Bobo has handed out some fliers to the other code monkeys to help teach them as well. Run through the following problems from Bobo's flier.\n",
    "$\\newline $ a) $12 \\mod 5$   $ \\equiv 2$\n",
    "$\\newline $ b) $57 \\mod 3$   $ \\equiv 0$ \n",
    "$\\newline $ c) $-30 \\mod 13$     $ \\equiv 9$\n",
    "$\\newline $ d) $-17 \\mod 18$     $ \\equiv 1$"
   ]
  },
  {
   "cell_type": "markdown",
   "metadata": {},
   "source": [
    "X) Since Bobo has learned modular arithmetic, he likes to send secret messages to the other Code Monkeys using it. Every day, Bobo wears a different shirt with a number on it that is the key to the cipher. What are the messages on the following days?\n",
    "\n",
    "a) Bobo's shirt has \"+5\" on it. The message is:\n",
    "\n",
    "    UWNSYJW SJJI NSP\n",
    "    \"PRINTER NEED INK\"\n",
    "\n",
    "b) Bobo's shirt has a \"-2\" on it. The message is:\n",
    "\n",
    "    ZYLYLY GQ JGDC\n",
    "    \"BANANA IS LIFE\"\n",
    "\n",
    "c) Bobo's shirt has a \"+13\" on it. The message is:\n",
    "\n",
    "    OBFF SBHAQ BHG\n",
    "    \"BOSS FOUND OUT\""
   ]
  },
  {
   "cell_type": "markdown",
   "metadata": {},
   "source": [
    "X. Bobo has big plans for some ciphers that will look a lot more like he and his colleagues are working, but first Bobo needs to learn to convert common bases. $\\newline$\n",
    "\n",
    "\n",
    "a. $1001 \\space 0110 \\space 1101 \\space 0010_2 $ to base 16  = $9 \\space 6 \\space D \\space 2_16$\n",
    "\n",
    "b. $EF36_{16}$ to base 10  = $61238_10$\n",
    "\n",
    "c. $239_{10}$ to base 8  = $357_8$\n",
    "\n",
    "d. $67334_8$ to base 2  = $0 \\space 110 \\space 111 \\space 011 \\space 011 \\space 100_2$ (spaced in sets of 3s to show relation to each octal digit)\n"
   ]
  },
  {
   "cell_type": "markdown",
   "metadata": {},
   "source": [
    "X) Find GCD(864, 800) and LCM(864, 800). Verify that GCD(864, 800) $\\times$ LCM(864, 800) is equal to 864 $\\times$ 800. $\\newline$\n",
    "21600 x 40 = 864000"
   ]
  },
  {
   "cell_type": "markdown",
   "metadata": {},
   "source": [
    "X) Bobo has been upset since the boss found out about his attempts at making secret codes. Bobo has decided to replace all of the wall clocks in the building with 13 hour clocks as an act of rebellion. Assuming the clocks start are swapped between Sunday night and Monday morning and are in sync for the first several hours, what times do they read on:\n",
    "$\\newline$ a) 1:00PM on Tuesday $ == 11:00AM $\n",
    "$\\newline$ b) 8:00AM on Thursday $ == 2:00AM $\n",
    "$\\newline$ c) 4:00PM on Friday $ == 8:00AM $"
   ]
  },
  {
   "cell_type": "markdown",
   "metadata": {},
   "source": [
    "Python has a built in Least Common Multiple function (LCM), which can be displayed here:"
   ]
  },
  {
   "cell_type": "code",
   "execution_count": 6,
   "metadata": {},
   "outputs": [
    {
     "name": "stdout",
     "output_type": "stream",
     "text": [
      "210\n"
     ]
    }
   ],
   "source": [
    "print(math.lcm(15, 42))"
   ]
  },
  {
   "cell_type": "markdown",
   "metadata": {},
   "source": [
    "This abstracts it away and may leave you to wonder, \"What black magic has occured?\" \"Should I start carrying holy water to protect from the abstraction?\" or \"How can I destroy that which I do not understand?\"\n",
    "\n",
    "Instead of destroying that which you do not understand, we will attempt to alleviate your fear with the power of understanding. Below we have an inelegant, but demonstrative, way of showing how the LCM function works."
   ]
  },
  {
   "cell_type": "code",
   "execution_count": 7,
   "metadata": {},
   "outputs": [
    {
     "name": "stdout",
     "output_type": "stream",
     "text": [
      "[(2, 0), (3, 1), (5, 1)]\n"
     ]
    }
   ],
   "source": [
    "\n",
    "#Prime Factorization is the action of breaking up a number into its distinct collection of prime numbers, those which cannot be divided into any smaller integers.\n",
    "#Every number has a unique Prime Factorization\n",
    "x = 15\n",
    "p = [2, 3, 5, 7, 11, 13, 17, 19, 23, 29, 31, 37, 41, 47, 53, 59, 61, 67, 71, 73, 79, 83, 89, 97]\n",
    "#We have a small composite number, x, and a list of some prime numbers. Listed are the first 20 primes so that you can play with some values larger than our examples.\n",
    "\n",
    "\n",
    "def prime_factorization(x):\n",
    "    \n",
    "    primes = len(p)\n",
    "    #This is the size of our list of primes, p, to be used for range purposes in our prime_factorization function below.  \n",
    "    factors =[]\n",
    "    #We also have an empty list, which we will use to store tuples. These tuples will be of the form (p, e), where:\n",
    "    #   p is the prime factor of x\n",
    "    #   e is the amount of times p can go into x\n",
    "    e = 0\n",
    "    #The aforementioned e\n",
    "    for i in range(0, primes):\n",
    "        if (x != 1):    \n",
    "        #We will be dividing out primes as we go, so once we reach 1 we have achieved our goal.\n",
    "            while ((x%p[i] == 0)):\n",
    "            #We will only keep dividing primes out of our number while they are evenly divisible. We have no interest in non-integers.\n",
    "                x = x/p[i]\n",
    "                #We divide out the prime number. We do this as many times as possible.\n",
    "                e = e + 1\n",
    "                #We increase our exponent by 1 for every time our prime evenly goes into our composite number\n",
    "            factors.append((p[i], e))\n",
    "            #We now add our tuple to the list and start factoring again\n",
    "            e = 0\n",
    "            #We reset the exponent for the next factor\n",
    "    return factors\n",
    "\n",
    "print(prime_factorization(x))"
   ]
  },
  {
   "cell_type": "markdown",
   "metadata": {},
   "source": [
    "So we have our prime factorization, which will work on any number (as long as it's composed only of the prime numbers in that array). How does this relate to our LCM function? Why do we include primes that have zero as an exponent? What is our next step? To move ahead, we will take the prime factorization of two numbers."
   ]
  },
  {
   "cell_type": "code",
   "execution_count": 8,
   "metadata": {},
   "outputs": [
    {
     "name": "stdout",
     "output_type": "stream",
     "text": [
      "210\n"
     ]
    }
   ],
   "source": [
    "x = prime_factorization(15)\n",
    "y = prime_factorization(42)\n",
    "#We have our two prime factorizations\n",
    "\n",
    "def LCM(x, y):\n",
    "    factors = []\n",
    "    #We have the same empty list as previously with the same rules, this time to be filled by the larger prime factorization.\n",
    "    #The larger list will be easier to manipulate, and we will replace any smaller exponents on any prime factor with the larger exponent from the other list as required.\n",
    "    \n",
    "    lx = len(x)\n",
    "    ly = len(y)\n",
    "    #These are our lengths of our lists of factors. These lengths will be compared to see which route we go.\n",
    "    #Our options are mostly the same, just with the variables chosen flipped.\n",
    "\n",
    "    if (lx >= ly):\n",
    "        factors = x\n",
    "        #We set our empty list equal to x so that we have a list of the correct size.\n",
    "        #We cycle through each index in factors, comparing the values of each tuple between each other. Each tuple compared has the same prime value, but may have differing exponents.\n",
    "        #We store the larger exponent, then continue the cycle until each list has run dry.\n",
    "        for i in range(0, ly):\n",
    "            if (x[i] >= y[i]):\n",
    "                factors[i] = x[i]\n",
    "            elif (y[i] > x[i]):\n",
    "                factors[i] = y[i]\n",
    "    elif (ly > lx):\n",
    "        factors = y\n",
    "        for i in range(0, lx):\n",
    "            if (x[i] >= y[i]):\n",
    "                factors[i] = x[i]\n",
    "            elif (y[i] > x[i]):\n",
    "                factors[i] = y[i]\n",
    "    \n",
    "    prime_factors = [lis[0] for lis in factors]\n",
    "    #This stores the primes from the factors list\n",
    "    exponents = [lis[1] for lis in factors]\n",
    "    #This stores the exponents from the factors list\n",
    "\n",
    "    output = 1\n",
    "    for i in range(0, len(factors)):\n",
    "        output = output * (prime_factors[i] ** exponents[i])\n",
    "        #We now cycle through each factor and exponent and multiply them all out. This can be seen similarly to a union of sets.\n",
    "        #We have an intersection between the x and y values which is a factor of both.\n",
    "        #We then multiply anything extra from x, then anything extra from y. This leaves us with the Least Common Multiple.\n",
    "    return output\n",
    "\n",
    "print (LCM(x, y))"
   ]
  },
  {
   "cell_type": "markdown",
   "metadata": {},
   "source": [
    "That is a lot of work to get the same output as from one line of code. It may be best to hide this mess and not think of it again. Instead, we will launch into a similar journey with the Greatest Common Divisor function (GCD). We are much safer this time, however."
   ]
  },
  {
   "cell_type": "code",
   "execution_count": 9,
   "metadata": {},
   "outputs": [
    {
     "name": "stdout",
     "output_type": "stream",
     "text": [
      "3\n"
     ]
    }
   ],
   "source": [
    "print(math.gcd(15, 42))"
   ]
  },
  {
   "cell_type": "markdown",
   "metadata": {},
   "source": [
    "So elegant, so pure. Do not enjoy it for long, we are now on our field trip to see how the sausage is made."
   ]
  },
  {
   "cell_type": "code",
   "execution_count": 15,
   "metadata": {},
   "outputs": [
    {
     "name": "stdout",
     "output_type": "stream",
     "text": [
      "3\n"
     ]
    }
   ],
   "source": [
    "x = 15\n",
    "y = 42\n",
    "\n",
    "def GCD(x, y):\n",
    "#These two statements are equivalent, just with their x and y values flipped.\n",
    "#We take as many whole copies of the smaller value from the larger value as we can, such that we end up with a positive integer.\n",
    "#The smaller number is now the larger number, the leftover positive integer takes the place of the smaller number, and we get a new integer leftover.\n",
    "#This cycle continues until the smaller number evenly divides the larger number and we are left with 0.\n",
    "    if (x > y & x%y != 0):\n",
    "        while (x%y != 0):\n",
    "            temp = y\n",
    "            y = x - (x//y)*y\n",
    "            x = temp\n",
    "        return y\n",
    "    elif (y > x & y%x != 0):\n",
    "        while (y%x != 0):\n",
    "            temp = x\n",
    "            x = y - (y//x)*x\n",
    "            y = temp\n",
    "        return x\n",
    "\n",
    "print(GCD(x, y))"
   ]
  },
  {
   "cell_type": "markdown",
   "metadata": {},
   "source": []
  },
  {
   "cell_type": "markdown",
   "metadata": {},
   "source": [
    "||A|B|C|D|E|F|G|H|I|J|K|L|M|N|O|P|Q|R|S|T|U|V|W|X|Y|Z|\n",
    "|---|---|---|---|---|---|---|---|---|---|---|---|---|---|---|---|---|---|---|---|---|---|---|---|---|---|---|\n",
    "|Initial Value|1|2|3|4|5|6|7|8|9|10|11|12|13|14|15|16|17|18|19|20|21|22|23|24|25|26 or 0|\n",
    "|Caesar Cipher Value|4|5|6|7|8|9|10|11|12|13|14|15|16|17|18|19|20|21|22|23|24|25|26 or 0|1|2|3|    \n"
   ]
  },
  {
   "cell_type": "code",
   "execution_count": 1,
   "metadata": {},
   "outputs": [
    {
     "name": "stdout",
     "output_type": "stream",
     "text": [
      "Encrypted: BROR\n",
      "Decrypted: YOLO\n"
     ]
    }
   ],
   "source": [
    "def implement_caesar_cipher(message, key, decrypt=False):\n",
    "    result = \"\"  # Initialize an empty string to store the result.\n",
    "    for character in message:\n",
    "        if character.isalpha():  # Check if the character is an alphabet letter.\n",
    "            shift = key if not decrypt else -key  # Determine the shift amount.\n",
    "            if character.islower():\n",
    "                # Apply Caesar cipher transformation for lowercase letters.\n",
    "                result += chr(((ord(character) - ord('a') + shift) % 26) + ord('a'))\n",
    "            else:\n",
    "                # Apply Caesar cipher transformation for uppercase letters.\n",
    "                result += chr(((ord(character) - ord('A') + shift) % 26) + ord('A'))\n",
    "        else:\n",
    "            # Preserve non-alphabet characters as they are.\n",
    "            result += character\n",
    "    return result\n",
    "# Example usage:\n",
    "plaintext = \"Bobo was here!\"\n",
    "shift_key = 3  # You can choose any positive integer as the shift key.\n",
    "# Encrypt the plaintext using the Caesar cipher.\n",
    "encrypted_text = implement_caesar_cipher(plaintext, shift_key)\n",
    "print(f\"Encrypted: {encrypted_text}\")\n",
    "# Decrypt the encrypted text (optional).\n",
    "decrypted_text = implement_caesar_cipher(encrypted_text, shift_key, decrypt=True)\n",
    "print(f\"Decrypted: {decrypted_text}\")            "
   ]
  }
 ],
 "metadata": {
  "kernelspec": {
   "display_name": "Python 3",
   "language": "python",
   "name": "python3"
  },
  "language_info": {
   "codemirror_mode": {
    "name": "ipython",
    "version": 3
   },
   "file_extension": ".py",
   "mimetype": "text/x-python",
   "name": "python",
   "nbconvert_exporter": "python",
   "pygments_lexer": "ipython3",
   "version": "3.11.7"
  }
 },
 "nbformat": 4,
 "nbformat_minor": 2
}
