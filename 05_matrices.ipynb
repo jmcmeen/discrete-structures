{
 "cells": [
  {
   "cell_type": "markdown",
   "metadata": {},
   "source": [
    "# Matrices\n",
    "- A matrix can be defined as a rectangular array of numbers. They can be measured by m rows and n columns = m*n. If a matrix has the same number of rows and columns, it is called square.\n",
    "- The transpose of a matrix is obtained by interchanging the rows and columns of the original matrix. For example:"
   ]
  },
  {
   "cell_type": "code",
   "execution_count": 11,
   "metadata": {},
   "outputs": [
    {
     "data": {
      "text/plain": [
       "array([[1, 2, 3, 4],\n",
       "       [5, 6, 7, 8]])"
      ]
     },
     "execution_count": 11,
     "metadata": {},
     "output_type": "execute_result"
    }
   ],
   "source": [
    "import numpy as np\n",
    "\n",
    "# Create a 2x4 matrix\n",
    "matrix = np.array([\n",
    "    [1, 2, 3, 4],\n",
    "    [5, 6, 7, 8]\n",
    "])\n",
    "\n",
    "# Display the matrix\n",
    "matrix\n"
   ]
  },
  {
   "cell_type": "markdown",
   "metadata": {},
   "source": [
    "Which then becomes:"
   ]
  },
  {
   "cell_type": "code",
   "execution_count": 12,
   "metadata": {},
   "outputs": [
    {
     "data": {
      "text/plain": [
       "array([[1, 5],\n",
       "       [2, 6],\n",
       "       [3, 7],\n",
       "       [4, 8]])"
      ]
     },
     "execution_count": 12,
     "metadata": {},
     "output_type": "execute_result"
    }
   ],
   "source": [
    "import numpy as np\n",
    "\n",
    "# Create a 2x4 matrix\n",
    "matrix = np.array([\n",
    "    [1, 2, 3, 4],\n",
    "    [5, 6, 7, 8]\n",
    "])\n",
    "\n",
    "# Transpose the matrix\n",
    "transposed_matrix = matrix.T  # or np.transpose(matrix)\n",
    "\n",
    "# Display the transposed matrix\n",
    "transposed_matrix\n"
   ]
  },
  {
   "cell_type": "markdown",
   "metadata": {},
   "source": [
    "# Below are five examples of matrices:"
   ]
  },
  {
   "cell_type": "markdown",
   "metadata": {},
   "source": [
    "# Question 1:"
   ]
  },
  {
   "cell_type": "code",
   "execution_count": 1,
   "metadata": {},
   "outputs": [
    {
     "name": "stdout",
     "output_type": "stream",
     "text": [
      "Matrix A:\n"
     ]
    },
    {
     "data": {
      "text/plain": [
       "array([[ 6,  2,  3],\n",
       "       [ 4,  3,  6],\n",
       "       [ 3,  8,  9],\n",
       "       [10,  2, 12]])"
      ]
     },
     "execution_count": 1,
     "metadata": {},
     "output_type": "execute_result"
    }
   ],
   "source": [
    "import numpy as np\n",
    "\n",
    "# Matrix A\n",
    "print(\"Matrix A:\")\n",
    "matrix = np.array([\n",
    "    [6, 2, 3],\n",
    "    [4, 3, 6],\n",
    "    [3, 8, 9],\n",
    "    [10, 2, 12]\n",
    "])\n",
    "\n",
    "matrix\n"
   ]
  },
  {
   "cell_type": "markdown",
   "metadata": {},
   "source": [
    "A) What size is matrix A?  \n",
    "B) What is the third column of matrix A?  \n",
    "C) What is the second row of matrix A?  \n",
    "D) What is the element of matrix A in the \n",
    "(2,2) position?  \n",
    "E) What is the transpose of matrix A (A')?"
   ]
  },
  {
   "cell_type": "markdown",
   "metadata": {},
   "source": [
    "Answers:  \n",
    "A) 4x3  \n",
    "B) 3, 6, 9, 12  \n",
    "C) 4, 3, 6  \n",
    "D) 3  \n",
    "E)  \n",
    "[6, 4, 3, 10]  \n",
    "[2, 3, 8, 2]  \n",
    "[3, 6, 9, 12]"
   ]
  },
  {
   "cell_type": "markdown",
   "metadata": {},
   "source": [
    "# Question 2:\n",
    "Find A + B, where"
   ]
  },
  {
   "cell_type": "code",
   "execution_count": 28,
   "metadata": {},
   "outputs": [
    {
     "data": {
      "text/plain": [
       "(array([[ 1, -3,  5],\n",
       "        [ 4,  8, -6],\n",
       "        [-2,  8,  9]]),\n",
       " array([[ 2,  4, -6],\n",
       "        [-1, 10, -8],\n",
       "        [ 7, -3,  5]]))"
      ]
     },
     "execution_count": 28,
     "metadata": {},
     "output_type": "execute_result"
    }
   ],
   "source": [
    "import numpy as np\n",
    "\n",
    "# Matrix A\n",
    "A = np.array([\n",
    "    [1, -3, 5],\n",
    "    [4, 8, -6],\n",
    "    [-2, 8, 9]\n",
    "])\n",
    "\n",
    "# Matrix B\n",
    "B = np.array([\n",
    "    [2, 4, -6],\n",
    "    [-1, 10, -8],\n",
    "    [7, -3, 5]\n",
    "])\n",
    "\n",
    "# Display the matrices\n",
    "A, B\n"
   ]
  },
  {
   "cell_type": "markdown",
   "metadata": {},
   "source": [
    "Answer:"
   ]
  },
  {
   "cell_type": "code",
   "execution_count": 36,
   "metadata": {},
   "outputs": [
    {
     "data": {
      "text/plain": [
       "array([[  3,   1,  -1],\n",
       "       [  3,  18, -14],\n",
       "       [  5,   5,  14]])"
      ]
     },
     "execution_count": 36,
     "metadata": {},
     "output_type": "execute_result"
    }
   ],
   "source": [
    "import numpy as np\n",
    "\n",
    "# Matrix A\n",
    "A = np.array([\n",
    "    [1, -3, 5],\n",
    "    [4, 8, -6],\n",
    "    [-2, 8, 9]\n",
    "])\n",
    "\n",
    "# Matrix B\n",
    "B = np.array([\n",
    "    [2, 4, -6],\n",
    "    [-1, 10, -8],\n",
    "    [7, -3, 5]\n",
    "])\n",
    "\n",
    "# Adding matrices A and B\n",
    "result = A + B\n",
    "\n",
    "# Displaying the result\n",
    "result"
   ]
  },
  {
   "cell_type": "markdown",
   "metadata": {},
   "source": [
    "# Question 3\n",
    "Find the product AB, where"
   ]
  },
  {
   "cell_type": "code",
   "execution_count": 29,
   "metadata": {},
   "outputs": [
    {
     "data": {
      "text/plain": [
       "(array([[ 1, -3,  5],\n",
       "        [ 4,  8, -6],\n",
       "        [-2,  8,  9]]),\n",
       " array([[ 2,  4, -6],\n",
       "        [-1, 10, -8],\n",
       "        [ 7, -3,  5]]))"
      ]
     },
     "execution_count": 29,
     "metadata": {},
     "output_type": "execute_result"
    }
   ],
   "source": [
    "import numpy as np\n",
    "\n",
    "# Matrix A\n",
    "A = np.array([\n",
    "    [1, -3, 5],\n",
    "    [4, 8, -6],\n",
    "    [-2, 8, 9]\n",
    "])\n",
    "\n",
    "# Matrix B\n",
    "B = np.array([\n",
    "    [2, 4, -6],\n",
    "    [-1, 10, -8],\n",
    "    [7, -3, 5]\n",
    "])\n",
    "\n",
    "# Display the matrices\n",
    "A, B"
   ]
  },
  {
   "cell_type": "markdown",
   "metadata": {},
   "source": [
    "Answer:"
   ]
  },
  {
   "cell_type": "code",
   "execution_count": 37,
   "metadata": {},
   "outputs": [
    {
     "data": {
      "text/plain": [
       "array([[  40,  -41,   43],\n",
       "       [ -42,  114, -118],\n",
       "       [  51,   45,   -7]])"
      ]
     },
     "execution_count": 37,
     "metadata": {},
     "output_type": "execute_result"
    }
   ],
   "source": [
    "import numpy as np\n",
    "\n",
    "# Matrix A\n",
    "A = np.array([\n",
    "    [1, -3, 5],\n",
    "    [4, 8, -6],\n",
    "    [-2, 8, 9]\n",
    "])\n",
    "\n",
    "# Matrix B\n",
    "B = np.array([\n",
    "    [2, 4, -6],\n",
    "    [-1, 10, -8],\n",
    "    [7, -3, 5]\n",
    "])\n",
    "\n",
    "# Finding the product of matrices A and B\n",
    "product = np.dot(A, B)  # or simply A @ B\n",
    "\n",
    "# Displaying the result\n",
    "product"
   ]
  },
  {
   "cell_type": "markdown",
   "metadata": {},
   "source": [
    "# Question 4\n",
    "Let"
   ]
  },
  {
   "cell_type": "code",
   "execution_count": 34,
   "metadata": {},
   "outputs": [
    {
     "data": {
      "text/plain": [
       "(array([[0, 0],\n",
       "        [1, 0]]),\n",
       " array([[1, 0],\n",
       "        [0, 1]]))"
      ]
     },
     "execution_count": 34,
     "metadata": {},
     "output_type": "execute_result"
    }
   ],
   "source": [
    "import numpy as np\n",
    "\n",
    "# Matrix a\n",
    "a = np.array([\n",
    "    [0, 0],\n",
    "    [1, 0]\n",
    "])\n",
    "\n",
    "# Matrix b\n",
    "b = np.array([\n",
    "    [1, 0],\n",
    "    [0, 1]\n",
    "])\n",
    "\n",
    "# Display the matrices\n",
    "a, b"
   ]
  },
  {
   "cell_type": "markdown",
   "metadata": {},
   "source": [
    "Find  \n",
    "a) $$A \\vee B$$  \n",
    "b) $$A \\land B$$   \n",
    "c) $$A \\odot B$$"
   ]
  },
  {
   "cell_type": "markdown",
   "metadata": {},
   "source": [
    "Answer:"
   ]
  },
  {
   "cell_type": "code",
   "execution_count": 9,
   "metadata": {},
   "outputs": [
    {
     "name": "stdout",
     "output_type": "stream",
     "text": [
      "Matrix a:\n",
      "[[1. 1.]\n",
      " [1. 1.]]\n",
      "\n",
      "Matrix b:\n",
      "[[0 0]\n",
      " [1 0]]\n",
      "\n",
      "Matrix c:\n",
      "[[1 1]\n",
      " [1 0]]\n"
     ]
    }
   ],
   "source": [
    "import numpy as np\n",
    "\n",
    "# Creating Matrix a (2x2) with ones\n",
    "matrix_a = np.ones((2, 2))\n",
    "\n",
    "# Creating Matrix b (2x2) with specific values\n",
    "matrix_b = np.array([[0, 0],\n",
    "                    [1, 0]])\n",
    "\n",
    "# Creating Matrix c (2x2) with specific values\n",
    "matrix_c = np.array([[1, 1],\n",
    "                    [1, 0]])\n",
    "\n",
    "# Displaying Matrix a\n",
    "print(\"Matrix a:\")\n",
    "print(matrix_a)\n",
    "\n",
    "# Displaying Matrix b\n",
    "print(\"\\nMatrix b:\")\n",
    "print(matrix_b)\n",
    "\n",
    "# Displaying Matrix c\n",
    "print(\"\\nMatrix c:\")\n",
    "print(matrix_c)\n"
   ]
  },
  {
   "cell_type": "markdown",
   "metadata": {},
   "source": [
    "# Question 5"
   ]
  },
  {
   "cell_type": "markdown",
   "metadata": {},
   "source": [
    "Let A be a zero-one matrix. Show that  \n",
    "a) A v A = A  \n",
    "b) A ^ A = A"
   ]
  },
  {
   "cell_type": "markdown",
   "metadata": {},
   "source": [
    "Answer:"
   ]
  },
  {
   "cell_type": "markdown",
   "metadata": {},
   "source": [
    "a) $$A \\vee A=[a_{ij} \\vee \\, a_{ij}] = [a_{ij}] = A$$  \n",
    "b) $$A \\land A=[a_{ij} \\land \\, a_{ij}] = [a_{ij}] = A$$  "
   ]
  },
  {
   "cell_type": "markdown",
   "metadata": {},
   "source": [
    "# Here are three code examples of matrices:"
   ]
  },
  {
   "cell_type": "code",
   "execution_count": 3,
   "metadata": {},
   "outputs": [
    {
     "name": "stdout",
     "output_type": "stream",
     "text": [
      "Identity Matrix:\n",
      "[[1. 0. 0.]\n",
      " [0. 1. 0.]\n",
      " [0. 0. 1.]]\n"
     ]
    }
   ],
   "source": [
    "import numpy as np\n",
    "\n",
    "# Creating a 3x3 identity matrix\n",
    "identity_matrix = np.eye(3)\n",
    "\n",
    "# Displaying the identity matrix\n",
    "print(\"Identity Matrix:\")\n",
    "print(identity_matrix)"
   ]
  },
  {
   "cell_type": "code",
   "execution_count": 2,
   "metadata": {},
   "outputs": [
    {
     "name": "stdout",
     "output_type": "stream",
     "text": [
      "Random Matrix:\n",
      "[[0.00907622 0.51454163]\n",
      " [0.3893526  0.51179779]\n",
      " [0.90934872 0.29838057]\n",
      " [0.71614014 0.38973795]]\n"
     ]
    }
   ],
   "source": [
    "import numpy as np\n",
    "\n",
    "# Creating a 4x2 matrix with random values between 0 and 1\n",
    "random_matrix = np.random.rand(4, 2)\n",
    "\n",
    "# Displaying the random matrix\n",
    "print(\"Random Matrix:\")\n",
    "print(random_matrix)"
   ]
  },
  {
   "cell_type": "code",
   "execution_count": 4,
   "metadata": {},
   "outputs": [
    {
     "name": "stdout",
     "output_type": "stream",
     "text": [
      "Diagonal Matrix:\n",
      "[[2 0 0]\n",
      " [0 4 0]\n",
      " [0 0 6]]\n"
     ]
    }
   ],
   "source": [
    "import numpy as np\n",
    "\n",
    "# Creating a 3x3 diagonal matrix with specified diagonal values\n",
    "diagonal_matrix = np.diag([2, 4, 6])\n",
    "\n",
    "# Displaying the diagonal matrix\n",
    "print(\"Diagonal Matrix:\")\n",
    "print(diagonal_matrix)"
   ]
  }
 ],
 "metadata": {
  "kernelspec": {
   "display_name": "Python 3",
   "language": "python",
   "name": "python3"
  },
  "language_info": {
   "codemirror_mode": {
    "name": "ipython",
    "version": 3
   },
   "file_extension": ".py",
   "mimetype": "text/x-python",
   "name": "python",
   "nbconvert_exporter": "python",
   "pygments_lexer": "ipython3",
   "version": "3.12.2"
  }
 },
 "nbformat": 4,
 "nbformat_minor": 2
}
