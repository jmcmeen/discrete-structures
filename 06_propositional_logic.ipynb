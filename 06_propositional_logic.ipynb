{
 "cells": [
  {
   "cell_type": "markdown",
   "metadata": {},
   "source": [
    "Which of these are propositions?  \n",
    "If it is a proposition, then what is it's truth value?  \n",
    "a) The ocean is blue.  \n",
    "b) How do I get to Jimmy's house?  \n",
    "c) The number 9 is an odd number.  \n",
    "d) 3 > 5  \n",
    "\n",
    "Answers  \n",
    "a) Yes, true  \n",
    "b) No  \n",
    "c) Yes, true  \n",
    "d) Yes, false  "
   ]
  },
  {
   "cell_type": "code",
   "execution_count": 2,
   "metadata": {},
   "outputs": [
    {
     "name": "stdout",
     "output_type": "stream",
     "text": [
      "True\n",
      "False\n"
     ]
    }
   ],
   "source": [
    "# Finding the truth value with conditional statements\n",
    "\n",
    "print(6 >= 6)\n",
    "\n",
    "if 3 >= 5:\n",
    "    print(\"True\")\n",
    "else:\n",
    "    print(\"False\")"
   ]
  },
  {
   "cell_type": "code",
   "execution_count": 11,
   "metadata": {},
   "outputs": [
    {
     "name": "stdout",
     "output_type": "stream",
     "text": [
      "True\n"
     ]
    }
   ],
   "source": [
    "# Similar example in a different format\n",
    "\n",
    "print(\"True\") if 7 >= 4 else print(\"False\")"
   ]
  },
  {
   "cell_type": "code",
   "execution_count": 13,
   "metadata": {},
   "outputs": [
    {
     "name": "stdout",
     "output_type": "stream",
     "text": [
      "False\n"
     ]
    }
   ],
   "source": [
    "a = 3\n",
    "b = 9\n",
    "\n",
    "# Find the truth value for a > b\n",
    "\n",
    "print(a > b)\n",
    "\n",
    "if a > b:\n",
    "    print(\"True\")\n",
    "else:\n",
    "    print(\"False\")"
   ]
  },
  {
   "cell_type": "markdown",
   "metadata": {},
   "source": [
    "What is the negation of these propositions?  \n",
    "a) We live on the planet Earth.  \n",
    "b) The stoplight is red.  \n",
    "c) Violets are not blue.  \n",
    "d) Jimmy is sick with the flu.\n",
    "  \n",
    "Answers  \n",
    "a) We do not live on the planet Earth.  \n",
    "b) The stoplight is not red.  \n",
    "c) Violets are blue.  \n",
    "d) Jimmy is not sick with the flu."
   ]
  },
  {
   "cell_type": "code",
   "execution_count": 18,
   "metadata": {},
   "outputs": [
    {
     "name": "stdout",
     "output_type": "stream",
     "text": [
      "False\n",
      "True\n"
     ]
    }
   ],
   "source": [
    "# What are the expected boolean values that will be returned?\n",
    "\n",
    "p = True\n",
    "q = False\n",
    "\n",
    "print(not p)\n",
    "print(not q)"
   ]
  },
  {
   "cell_type": "code",
   "execution_count": 17,
   "metadata": {},
   "outputs": [
    {
     "name": "stdout",
     "output_type": "stream",
     "text": [
      "True\n",
      "False\n"
     ]
    }
   ],
   "source": [
    "# When using \"or\", at least one value must be true for it to be true\n",
    "# When using \"and\", both values must be true for it to be true\n",
    "\n",
    "p = True\n",
    "q = False\n",
    "\n",
    "print(p or q)\n",
    "print(p and q)"
   ]
  },
  {
   "cell_type": "code",
   "execution_count": 26,
   "metadata": {},
   "outputs": [
    {
     "name": "stdout",
     "output_type": "stream",
     "text": [
      "not p or not q is True\n",
      "p and r is False\n"
     ]
    }
   ],
   "source": [
    "# What are the expected values for this compound statement?\n",
    "# How would you write out this compound statement?\n",
    "\n",
    "p = True\n",
    "q = False\n",
    "r = False\n",
    "\n",
    "if not p or not q:\n",
    "    print(\"not p or not q is True\"), r == True\n",
    "    if p and r:\n",
    "        print(\"p and r is True\")\n",
    "    else:\n",
    "        print(\"p and r is False\")\n",
    "else:\n",
    "    print(\"not p or not q is False\")"
   ]
  },
  {
   "cell_type": "markdown",
   "metadata": {},
   "source": [
    "||Laptop A|Laptop B|Laptop C|\n",
    "|---|---|---|---|\n",
    "|Screen Resolution|1600x900|1920x1080|2560x1440|  \n",
    "|Refresh Rate|144Hz|165Hz|120Hz|  \n",
    "|RAM|12GB|8GB|16GB|  \n",
    "\n",
    "Use the table above to determine the truth values of each proposition:  \n",
    "a) Laptop C has more RAM than laptop B.  \n",
    "b) Laptop A has the lowest refresh rate of all three laptops.  \n",
    "c) All of these laptops have a refresh rate higher than 60Hz.  \n",
    "d) If laptop B has a higher screen resolution and more RAM than laptop A, then it also has a higher refresh rate.\n",
    "  \n",
    "Answers  \n",
    "a) True  \n",
    "b) False  \n",
    "c) True  \n",
    "d) False"
   ]
  },
  {
   "cell_type": "code",
   "execution_count": 34,
   "metadata": {},
   "outputs": [
    {
     "name": "stdout",
     "output_type": "stream",
     "text": [
      "True\n"
     ]
    }
   ],
   "source": [
    "# Question A\n",
    "\n",
    "LaptopB = 8\n",
    "LaptopC = 16\n",
    "\n",
    "print (LaptopC > LaptopB)\n",
    "\n",
    "if LaptopC > LaptopB:\n",
    "    print(\"True\")\n",
    "else:\n",
    "    print(\"False\")\n"
   ]
  },
  {
   "cell_type": "code",
   "execution_count": 33,
   "metadata": {},
   "outputs": [
    {
     "name": "stdout",
     "output_type": "stream",
     "text": [
      "False\n"
     ]
    }
   ],
   "source": [
    "# Question B\n",
    "\n",
    "LaptopA = 144\n",
    "LaptopB = 165\n",
    "LaptopC = 120\n",
    "\n",
    "if LaptopA < LaptopB and LaptopA < LaptopC:\n",
    "    print(\"True\")\n",
    "else:\n",
    "    print(\"False\")"
   ]
  },
  {
   "cell_type": "code",
   "execution_count": 28,
   "metadata": {},
   "outputs": [
    {
     "name": "stdout",
     "output_type": "stream",
     "text": [
      "True\n"
     ]
    }
   ],
   "source": [
    "# Question C\n",
    "\n",
    "LaptopA = 144\n",
    "LaptopB = 165\n",
    "LaptopC = 120\n",
    "\n",
    "if 60 < LaptopA and LaptopB and LaptopC:\n",
    "    print(\"True\")\n",
    "else:\n",
    "    print(\"False\")"
   ]
  },
  {
   "cell_type": "markdown",
   "metadata": {},
   "source": [
    "How many rows will there be in a truth table for the following compound propositions:  \n",
    "a) (q → p) $\\land$ (p → q)  \n",
    "b) (p $\\land$ q) $\\lor$ (p $\\land$ r)  \n",
    "c) (p $\\land$ q) $\\lor$ (p $\\land$ s) $\\lor$ ($\\neg$ p $\\land$ q)  \n",
    "d) ($\\neg$ q → p) $\\land$ (p $\\lor$ q)  \n",
    "  \n",
    "Answers  \n",
    "a) 2^2 = 4  \n",
    "b) 2^3 = 8  \n",
    "c) 2^4 = 16  \n",
    "d) 2^3 = 8"
   ]
  },
  {
   "cell_type": "markdown",
   "metadata": {},
   "source": [
    "Finish the truth table:\n",
    "\n",
    "|p|q|p → q|p $\\lor$ q|(p → q) $\\land$ (p $\\lor$ q)|\n",
    "|---|---|---|---|---|\n",
    "|True|True||||\n",
    "|True|False||||\n",
    "|False|True||||\n",
    "|False|False||||  \n",
    "  \n",
    "Answer  \n",
    "|p|q|p → q|p $\\lor$ q|(p → q) $\\land$ (p $\\lor$ q)|\n",
    "|---|---|---|---|---|\n",
    "|True|True|True|True|True|\n",
    "|True|False|False|True|False|\n",
    "|False|True|True|True|True|\n",
    "|False|False|True|False|False|"
   ]
  }
 ],
 "metadata": {
  "kernelspec": {
   "display_name": "Python 3",
   "language": "python",
   "name": "python3"
  },
  "language_info": {
   "codemirror_mode": {
    "name": "ipython",
    "version": 3
   },
   "file_extension": ".py",
   "mimetype": "text/x-python",
   "name": "python",
   "nbconvert_exporter": "python",
   "pygments_lexer": "ipython3",
   "version": "3.12.2"
  }
 },
 "nbformat": 4,
 "nbformat_minor": 2
}
