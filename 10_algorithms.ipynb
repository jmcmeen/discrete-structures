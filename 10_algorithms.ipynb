{
 "cells": [
  {
   "cell_type": "markdown",
   "metadata": {},
   "source": [
    "# Algorithms"
   ]
  },
  {
   "cell_type": "markdown",
   "metadata": {},
   "source": [
    "## Introduction"
   ]
  },
  {
   "cell_type": "markdown",
   "metadata": {},
   "source": [
    "Algorithms are like recipes for computers. They're step-by-step instructions that tell a computer how to solve problems or do tasks. Whether it's adding numbers, sorting a list, or finding the shortest route on a map, algorithms help computers figure out what to do efficiently. In programming, algorithms are like hidden tricks that makes software work smoothly and more efficiently. They're the clever tricks programmers use to make things happen the way we want them to. So, understanding algorithms is a key part of learning how to make cool stuff with computers!"
   ]
  },
  {
   "cell_type": "markdown",
   "metadata": {},
   "source": [
    "## Search Algorithms"
   ]
  },
  {
   "cell_type": "markdown",
   "metadata": {},
   "source": [
    "#### **The Linear Search**\n",
    "\n",
    "Linear search, also known as sequential search, is a searching algorithm that sequentially checks each element in a list or array until the target element is found or the entire list is traversed. It starts at the beginning of the list and compares each element with the target value. If the element matches the target, the search is successful, and the index of the element is returned. However, if the element is not found after examining all elements, the search concludes with a \"not found\" result. While linear search is simple and easy to implement, it may not be the most efficient for large datasets compared to other search algorithms like binary search, which operates on sorted arrays. Nevertheless, linear search remains useful for small lists or when the data is unsorted.\n"
   ]
  },
  {
   "cell_type": "markdown",
   "metadata": {},
   "source": [
    "#### **The Binary Search**\n",
    "\n",
    "Binary search is a highly efficient searching algorithm used to locate a target value within a sorted array or list. The process starts by comparing the target value with the middle element of the array. If the middle element matches the target, the search is successful, and its index is returned. Otherwise, if the target value is less than the middle element, the search continues in the lower half of the array. Similarly, if the target value is greater, the search proceeds in the upper half. This process of halving the search space is repeated until the target is found or the search space is empty, resulting in a \"not found\" outcome. Binary search's logarithmic time complexity makes it significantly faster than linear search, especially for large datasets, making it a preferred choice when dealing with sorted data structures."
   ]
  },
  {
   "cell_type": "markdown",
   "metadata": {},
   "source": [
    "### *Code Example:* Demonstrating the Efficiency of Binary Search\n",
    "\n",
    "Below is an illustrative code snippet showcasing the speed difference between binary search and linear search. The code generates an ordered list of 10,000 integers between -30,000 & 30,000, and selects a target from the list at random, then measures the time taken by each search method to locate the target within the list."
   ]
  },
  {
   "cell_type": "code",
   "execution_count": 4,
   "metadata": {},
   "outputs": [
    {
     "name": "stdout",
     "output_type": "stream",
     "text": [
      "Target:-22390\n",
      "Linear search time:  2.0677 seconds\n",
      "Binary search time:  0.0189 seconds\n",
      "The binary search was 10949.08% percent faster than the linear search. \n"
     ]
    }
   ],
   "source": [
    "import random\n",
    "import time\n",
    "\n",
    "# linear search\n",
    "def linear_search(l, target):\n",
    "    for i in range(len(l)):\n",
    "        if l[i] == target:\n",
    "            return i\n",
    "    return - 1 \n",
    "\n",
    "# binary search\n",
    "def binary_search(l, target, low=None, high=None):\n",
    "    if low is None:\n",
    "        low = 0\n",
    "    if high is None:\n",
    "        high = len(l) - 1\n",
    "    if high < low:\n",
    "        return - 1\n",
    "    \n",
    "    midpoint = (low + high) // 2\n",
    "\n",
    "    if target == l[midpoint]:\n",
    "        return midpoint\n",
    "    elif target < l[midpoint]:\n",
    "        return binary_search(l, target, low, midpoint-1)\n",
    "    else: \n",
    "        # target > l[midpoint]\n",
    "        return binary_search(l, target, midpoint+1, high)\n",
    "\n",
    "def main():\n",
    "\n",
    "    # Here we instalize the length of the list and create an empty set. Using the set datatype will ensure there are no duplicate numbers in list. \n",
    "    length = 10000\n",
    "    sorted_list = set()\n",
    "    \n",
    "    # generates a random list of 1000 integers between -30000 and 30000\n",
    "    while len(sorted_list) < length: \n",
    "        sorted_list.add(random.randint(-3 * length, 3 * length))\n",
    "    sorted_list = sorted(list(sorted_list)) # sorts and cast to list.\n",
    "    # randomly select a target from the list\n",
    "    target = random.choice(sorted_list)\n",
    "\n",
    "    print(f\"Target:{target}\")\n",
    "    #records the processing time for each method\n",
    "    start = time.time()\n",
    "    for target in sorted_list:\n",
    "        linear_search(sorted_list, target)\n",
    "    end = time.time()\n",
    "    binarytime = end - start\n",
    "    print('Linear search time: ', round((binarytime), 4), \"seconds\")  \n",
    "\n",
    "    start = time.time()\n",
    "    for target in sorted_list:\n",
    "        binary_search(sorted_list, target) \n",
    "    end = time.time()\n",
    "    lineartime = end - start\n",
    "    \n",
    "    print('Binary search time: ', round((lineartime), 4), \"seconds\")\n",
    "    \n",
    "    print(f'The binary search was {round(binarytime / lineartime * 100, 2)}% percent faster than the linear search. ')\n",
    "main()"
   ]
  },
  {
   "cell_type": "markdown",
   "metadata": {},
   "source": [
    "## Sorting Algorithms"
   ]
  },
  {
   "cell_type": "markdown",
   "metadata": {},
   "source": [
    "### **The Bubble Sort Algorithm**\n",
    "\n",
    "\n",
    "Bubble sort is a simple and intuitive sorting algorithm used to arrange elements in ascending or descending order within an array or list. The algorithm works by repeatedly iterating through the list, comparing adjacent elements, and swapping them if they are in the wrong order. During each pass through the list, the largest (or smallest, depending on the sorting order) unsorted element \"bubbles\" to its correct position. This process continues until no more swaps are needed, indicating that the list is fully sorted. While bubble sort is easy to understand and implement, it tends to be inefficient, especially for large datasets, due to its quadratic time complexity. However, it can be useful for educational purposes and for sorting small lists where simplicity is valued over efficiency."
   ]
  },
  {
   "cell_type": "code",
   "execution_count": 3,
   "metadata": {},
   "outputs": [
    {
     "name": "stdout",
     "output_type": "stream",
     "text": [
      "Original array: [64, 34, 25, 12, 22, 11, 90]\n",
      "Sorted array: [11, 12, 22, 25, 34, 64, 90]\n"
     ]
    }
   ],
   "source": [
    "def bubble_sort(arr):\n",
    "    n = len(arr)\n",
    "    # Traverse through all elements in the array\n",
    "    for i in range(n):\n",
    "        # Last i elements are already in place, so we don't need to check them\n",
    "        for j in range(0, n-i-1):\n",
    "            # Traverse the array from 0 to n-i-1\n",
    "            # Swap if the element found is greater than the next element\n",
    "            if arr[j] > arr[j+1]:\n",
    "                arr[j], arr[j+1] = arr[j+1], arr[j]\n",
    "\n",
    "# Example usage:\n",
    "if __name__ == \"__main__\":\n",
    "    # Example array\n",
    "    array = [64, 34, 25, 12, 22, 11, 90]\n",
    "\n",
    "    print(\"Original array:\", array)\n",
    "    bubble_sort(array)\n",
    "    print(\"Sorted array:\", array)\n"
   ]
  },
  {
   "cell_type": "markdown",
   "metadata": {},
   "source": [
    "### **Insertion Sort**\n",
    "Insertion sort is a straightforward sorting algorithm that builds the final sorted list iteratively. It compares each element with those before it, shifting larger elements as needed to place the current element in its correct position. This process continues until the entire list is sorted. While insertion sort has a time complexity of O(n2)O(n2), it performs well on small datasets or nearly sorted lists and requires only a constant amount of additional memory space."
   ]
  },
  {
   "cell_type": "code",
   "execution_count": 18,
   "metadata": {},
   "outputs": [
    {
     "name": "stdout",
     "output_type": "stream",
     "text": [
      "Sorted array is: [5, 6, 11, 12, 13]\n"
     ]
    }
   ],
   "source": [
    "def insertion_sort(arr):\n",
    "    # Traverse through 1 to len(arr)\n",
    "    for i in range(1, len(arr)):\n",
    "        key = arr[i]\n",
    "        # Move elements of arr[0..i-1], that are greater than key,\n",
    "        # to one position ahead of their current position\n",
    "        j = i - 1\n",
    "        while j >= 0 and key < arr[j]:\n",
    "            arr[j + 1] = arr[j]\n",
    "            j -= 1\n",
    "        arr[j + 1] = key\n",
    "\n",
    "# Example usage:\n",
    "arr = [12, 11, 13, 5, 6]\n",
    "insertion_sort(arr)\n",
    "print(\"Sorted array is:\", arr)\n"
   ]
  },
  {
   "cell_type": "markdown",
   "metadata": {},
   "source": [
    "# Problems"
   ]
  },
  {
   "cell_type": "markdown",
   "metadata": {},
   "source": [
    "### #1\n",
    " *Describe an algorithm that takes as input a list of n integers and produces as output the largest sum obtained by adding an integer in the list from the one\n",
    "following it.*"
   ]
  },
  {
   "cell_type": "markdown",
   "metadata": {},
   "source": [
    "### #2\n",
    "Describe an algorithm that takes as input a list of n distinct integers and finds the location of the smallest odd\n",
    "integer in the list or returns -1 if there are no even integers\n",
    "in the list"
   ]
  },
  {
   "cell_type": "markdown",
   "metadata": {},
   "source": [
    "### #3"
   ]
  },
  {
   "cell_type": "markdown",
   "metadata": {},
   "source": [
    "*Determine whether each of these functions* is $O(x^2)$\n",
    "\n",
    "a) $ f(x) = 20x + 15 $\n",
    "\n",
    "b) $ f(x) = 2x^2 + 500 $\n",
    "\n",
    "c) $ f(x) = x \\log_2(x) $\n",
    "\n",
    "d) $ f(x) = \\frac{x^3}{3} $\n",
    "\n",
    "e) $ f(x) = 3x $\n",
    "\n",
    "f) $f(x)=⌊x⌋⋅⌈2x⌉$\n"
   ]
  },
  {
   "cell_type": "markdown",
   "metadata": {},
   "source": [
    "## #4\n",
    "Give a big-O estimate for the number of operations, where an operation is an addition or a multiplication, used in this segment of an algorithm (ignoring comparisons used to test the conditions in the while loop):\n",
    "\\[\n",
    "\\begin{align*}\n",
    "& a := 2 \\\\\n",
    "& b := 0 \\\\\n",
    "& \\text{while } a \\leq N \\\\\n",
    "& \\quad b := b + a \\\\\n",
    "& \\quad a := 3a \\\\\n",
    "\\end{align*}\n",
    "\\]"
   ]
  },
  {
   "cell_type": "markdown",
   "metadata": {},
   "source": [
    "## #5\n",
    "a) Describe a pseudocode algorithm that arranges the first six terms of a list of real numbers, regardless of its length, in ascending order using the insertion sort method.\n",
    "\n",
    "b) Demonstrate that this algorithm operates with a time complexity of $O(1)$ concerning the number of comparisons utilized.\n"
   ]
  },
  {
   "cell_type": "markdown",
   "metadata": {},
   "source": [
    "# Sample Problems Answer Key"
   ]
  },
  {
   "cell_type": "markdown",
   "metadata": {},
   "source": [
    "## #1 \n",
    "- First instalize two variables, max_so_far & max_ending_here. \n",
    "- Then iterate through the array starting from the 2nd element. \n",
    "- Update max_ending_here to be the maximum of the current element and the sum of the current element and max_ending_here. \n",
    "- After traversing the entire array, max_so_far will hold the maximum sum of a subarray."
   ]
  },
  {
   "cell_type": "markdown",
   "metadata": {},
   "source": [
    "## #2\n",
    "\n",
    "```\n",
    "Algorithm FindSmallestOddLocation:\n",
    "    Input: A list of n distinct integers\n",
    "    Output: The location of the smallest odd integer in the list, or -1 if no odd integers are present\n",
    "    \n",
    "    1. Initialize smallest_odd_location to -1.\n",
    "    2. Iterate through the list of integers, checking each element:\n",
    "        a. If the current element is odd:\n",
    "            - If smallest_odd_location is still -1 or the current element is smaller than the smallest odd integer found so far, update smallest_odd_location to the index of the current element.\n",
    "    3. Return smallest_odd_location.\n",
    "    ```\n",
    "\n"
   ]
  },
  {
   "cell_type": "markdown",
   "metadata": {},
   "source": [
    "## #3\n",
    "a) For function $ f(x) = 20x + 15 $:\n",
    "   - No, $ f(x) )$ is not $( O(x^2) $ because its dominant term is $( 20x )$, which grows linearly with $( x )$.\n",
    "\n",
    "b) For function $ f(x) = 2x^2 + 500 $:\n",
    "   - Yes, $ f(x) )$ is $( O(x^2) $ because its dominant term is $( 2x^2 )$, which grows quadratically with $( x )$.\n",
    "\n",
    "c) For function $ f(x) = x \\log_2(x) $:\n",
    "   - No, $ f(x) )$ is not $( O(x^2) $. While it's more complex to analyze precisely, it grows slower than \\( x^2 \\) for sufficiently large \\( x \\).\n",
    "\n",
    "d) For function $ f(x) = \\frac{x^3}{3} $:\n",
    "   - No, $ f(x) )$ is not $( O(x^2) $. Its dominant term is $( \\frac{x^3}{3} )$, which grows with cubic power of $( x )$.\n",
    "\n",
    "e) For function $ f(x) = 3x $:\n",
    "   - No, $ f(x) )$ is not $( O(x^2) $ because its growth is linear with $( x )$, not quadratic.\n",
    "\n",
    "f) For function $f(x)=⌊x⌋⋅⌈2x⌉$:\n",
    "   - No, $ f(x) )$ is not $( O(x^2) $ because it's not a polynomial function in $( x )$. It involves the floor and ceiling functions, so its growth rate is different from $( x^2 )$."
   ]
  },
  {
   "cell_type": "markdown",
   "metadata": {},
   "source": [
    "## #4\n",
    "The big-O estimate for the number of operations in this segment of the algorithm is $ O(log_3(N)) $.\n"
   ]
  },
  {
   "cell_type": "markdown",
   "metadata": {},
   "source": [
    "## #5\n",
    "- The algorithm has a fixed number of comparisons for each iteration of the loop (specifically, one comparison per iteration).\n",
    "- The number of iterations is fixed at six, as it sorts only the first six terms of the list.\n",
    "- Therefore, the total number of comparisons remains constant regardless of the size of the input list.\n",
    "- Hence, the time complexity of the algorithm, concerning the number of comparisons, is $O(1)$.\n"
   ]
  }
 ],
 "metadata": {
  "kernelspec": {
   "display_name": "Python 3",
   "language": "python",
   "name": "python3"
  },
  "language_info": {
   "codemirror_mode": {
    "name": "ipython",
    "version": 3
   },
   "file_extension": ".py",
   "mimetype": "text/x-python",
   "name": "python",
   "nbconvert_exporter": "python",
   "pygments_lexer": "ipython3",
   "version": "3.12.1"
  }
 },
 "nbformat": 4,
 "nbformat_minor": 2
}
